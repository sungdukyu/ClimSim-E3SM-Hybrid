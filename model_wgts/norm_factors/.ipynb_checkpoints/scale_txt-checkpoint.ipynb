{
 "cells": [
  {
   "cell_type": "code",
   "execution_count": 1,
   "id": "c16cba54-905a-418e-8acc-c3ef4367af63",
   "metadata": {
    "tags": []
   },
   "outputs": [],
   "source": [
    "import xarray as xr\n",
    "import numpy as np\n",
    "import matplotlib.pyplot as plt"
   ]
  },
  {
   "cell_type": "code",
   "execution_count": 2,
   "id": "67dc3824-ad29-425a-9e25-8488522a437a",
   "metadata": {
    "tags": []
   },
   "outputs": [],
   "source": [
    "# in/out variable lists\n",
    "vars_mli      = ['state_t','state_q0001', 'state_q0002', 'state_q0003', 'state_u', 'state_v',\n",
    "                 'state_ps', 'pbuf_SOLIN','pbuf_LHFLX', 'pbuf_SHFLX',  'pbuf_TAUX', 'pbuf_TAUY', 'pbuf_COSZRS',\n",
    "                 'cam_in_ALDIF', 'cam_in_ALDIR', 'cam_in_ASDIF', 'cam_in_ASDIR', 'cam_in_LWUP',\n",
    "                 'cam_in_ICEFRAC', 'cam_in_LANDFRAC', 'cam_in_OCNFRAC', 'cam_in_SNOWHICE', 'cam_in_SNOWHLAND']\n",
    "vars_mli_utls = ['pbuf_ozone', 'pbuf_CH4', 'pbuf_N2O']\n",
    "vars_mlo      = ['ptend_t','ptend_q0001','ptend_q0002','ptend_q0003', 'ptend_u', 'ptend_v',\n",
    "                 'cam_out_NETSW', 'cam_out_FLWDS', 'cam_out_PRECSC', 'cam_out_PRECC',\n",
    "                 'cam_out_SOLS', 'cam_out_SOLL', 'cam_out_SOLSD', 'cam_out_SOLLD']"
   ]
  },
  {
   "cell_type": "code",
   "execution_count": 33,
   "id": "e105c401-3dfd-458c-8368-15d7a35875a5",
   "metadata": {
    "tags": []
   },
   "outputs": [
    {
     "name": "stdout",
     "output_type": "stream",
     "text": [
      "['state_t', 'state_q0001', 'state_q0002', 'state_q0003', 'state_u', 'state_v', 'state_ps', 'pbuf_SOLIN', 'pbuf_LHFLX', 'pbuf_SHFLX', 'pbuf_TAUX', 'pbuf_TAUY', 'pbuf_COSZRS', 'cam_in_ALDIF', 'cam_in_ALDIR', 'cam_in_ASDIF', 'cam_in_ASDIR', 'cam_in_LWUP', 'cam_in_ICEFRAC', 'cam_in_LANDFRAC', 'cam_in_OCNFRAC', 'cam_in_SNOWHICE', 'cam_in_SNOWHLAND', 'pbuf_ozone', 'pbuf_CH4', 'pbuf_N2O']\n"
     ]
    }
   ],
   "source": [
    "print([*vars_mli, *vars_mli_utls])"
   ]
  },
  {
   "cell_type": "code",
   "execution_count": 34,
   "id": "d0ef2967-cddd-43ab-924c-dbee9475b2f8",
   "metadata": {
    "tags": []
   },
   "outputs": [
    {
     "name": "stdout",
     "output_type": "stream",
     "text": [
      "['ptend_t', 'ptend_q0001', 'ptend_q0002', 'ptend_q0003', 'ptend_u', 'ptend_v', 'cam_out_NETSW', 'cam_out_FLWDS', 'cam_out_PRECSC', 'cam_out_PRECC', 'cam_out_SOLS', 'cam_out_SOLL', 'cam_out_SOLSD', 'cam_out_SOLLD']\n"
     ]
    }
   ],
   "source": [
    "print(vars_mlo)"
   ]
  },
  {
   "cell_type": "code",
   "execution_count": 3,
   "id": "e063083f-ef4c-41fd-8c6b-22f0f24e025d",
   "metadata": {
    "tags": []
   },
   "outputs": [],
   "source": [
    "# normalization/scaling factors\n",
    "mli_mean  = xr.open_dataset('mli_mean.nc', engine='netcdf4')\n",
    "mli_min   = xr.open_dataset('mli_min.nc', engine='netcdf4')\n",
    "mli_max   = xr.open_dataset('mli_max.nc', engine='netcdf4')\n",
    "mlo_scale = xr.open_dataset('mlo_scale.nc', engine='netcdf4')\n",
    "# (subset ozone, ch4, n2o - that only 5th-20th layers are used.)\n",
    "for k, kds in enumerate([mli_mean, mli_min, mli_max]):\n",
    "    kds_utls = kds[vars_mli_utls]\\\n",
    "          .isel(lev=slice(5,21)).rename({'lev':'lev2'})\n",
    "    kds = kds[vars_mli]\n",
    "    kds = kds.merge(kds_utls)\n",
    "    if k==0: mli_mean=kds\n",
    "    if k==1: mli_min=kds\n",
    "    if k==2: mli_max=kds\n",
    "\n",
    "# # normalizatoin, scaling #\n",
    "# ds = (ds-mli_mean)/(mli_max-mli_min)\n",
    "# dso = dso*mlo_scale"
   ]
  },
  {
   "cell_type": "code",
   "execution_count": 29,
   "id": "c70bdb7c-a2d2-45df-8e99-1f63dfdd3cec",
   "metadata": {
    "tags": []
   },
   "outputs": [
    {
     "name": "stdout",
     "output_type": "stream",
     "text": [
      "(425,)\n",
      "(425,)\n",
      "(368,)\n"
     ]
    }
   ],
   "source": [
    "# inp_sub\n",
    "work = np.array([])\n",
    "for kvar in [*vars_mli, *vars_mli_utls]:\n",
    "    work = np.append(work,mli_mean[kvar].values)\n",
    "work.tofile('inp_sub.v2.txt', sep=', ')\n",
    "print(work.shape)\n",
    "\n",
    "# inp_div\n",
    "work = np.array([])\n",
    "for kvar in [*vars_mli, *vars_mli_utls]:\n",
    "    work = np.append(work, mli_max[kvar].values - mli_min[kvar].values)\n",
    "work.tofile('inp_div.v2.txt', sep=', ')\n",
    "print(work.shape)\n",
    "\n",
    "# out_scale\n",
    "work = np.array([])\n",
    "for kvar in vars_mlo:\n",
    "    work = np.append(work, mlo_scale[kvar].values)\n",
    "work.tofile('out_scale.v2.txt', sep=', ')\n",
    "print(work.shape)"
   ]
  }
 ],
 "metadata": {
  "kernelspec": {
   "display_name": "myenv-tf_conda",
   "language": "python",
   "name": "myenv-tf_conda"
  },
  "language_info": {
   "codemirror_mode": {
    "name": "ipython",
    "version": 3
   },
   "file_extension": ".py",
   "mimetype": "text/x-python",
   "name": "python",
   "nbconvert_exporter": "python",
   "pygments_lexer": "ipython3",
   "version": "3.10.10"
  }
 },
 "nbformat": 4,
 "nbformat_minor": 5
}
