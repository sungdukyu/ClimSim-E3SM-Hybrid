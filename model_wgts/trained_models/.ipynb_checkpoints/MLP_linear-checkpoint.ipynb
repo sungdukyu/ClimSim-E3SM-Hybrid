{
 "cells": [
  {
   "cell_type": "code",
   "execution_count": 1,
   "id": "56a9fedc-7c1e-418d-801d-2ddcf1784cb9",
   "metadata": {
    "tags": []
   },
   "outputs": [
    {
     "name": "stderr",
     "output_type": "stream",
     "text": [
      "2023-09-21 14:08:39.477133: I tensorflow/core/platform/cpu_feature_guard.cc:193] This TensorFlow binary is optimized with oneAPI Deep Neural Network Library (oneDNN) to use the following CPU instructions in performance-critical operations:  SSE4.1 SSE4.2 AVX AVX2 FMA\n",
      "To enable them in other operations, rebuild TensorFlow with the appropriate compiler flags.\n"
     ]
    }
   ],
   "source": [
    "import tensorflow as tf\n",
    "from tensorflow import keras\n",
    "import numpy as np\n",
    "import matplotlib.pyplot as plt"
   ]
  },
  {
   "cell_type": "code",
   "execution_count": 2,
   "id": "c965ecab-0941-4ffa-9507-a5029e52a397",
   "metadata": {
    "tags": []
   },
   "outputs": [],
   "source": [
    "f_model1 = '/global/cfs/cdirs/m4331/sungduk/LEAP/E3SM-MMF_baseline/HPO/baseline_v2/step2_retrain/backup_phase-11_retrained_models/step2_lot-152_trial_0024.best.h5'"
   ]
  },
  {
   "cell_type": "code",
   "execution_count": 3,
   "id": "2cd95480-e83d-4a8e-ab5c-f2db16ab3a59",
   "metadata": {
    "tags": []
   },
   "outputs": [
    {
     "name": "stderr",
     "output_type": "stream",
     "text": [
      "2023-09-21 14:08:42.016636: I tensorflow/core/platform/cpu_feature_guard.cc:193] This TensorFlow binary is optimized with oneAPI Deep Neural Network Library (oneDNN) to use the following CPU instructions in performance-critical operations:  SSE4.1 SSE4.2 AVX AVX2 FMA\n",
      "To enable them in other operations, rebuild TensorFlow with the appropriate compiler flags.\n",
      "2023-09-21 14:08:42.610252: I tensorflow/core/common_runtime/gpu/gpu_device.cc:1613] Created device /job:localhost/replica:0/task:0/device:GPU:0 with 34399 MB memory:  -> device: 0, name: NVIDIA A100-PCIE-40GB, pci bus id: 0000:c3:00.0, compute capability: 8.0\n"
     ]
    }
   ],
   "source": [
    "model1 = keras.models.load_model(f_model1, compile=False)"
   ]
  },
  {
   "cell_type": "code",
   "execution_count": 4,
   "id": "b6986640-4f76-4b46-b770-ceebcbe0c202",
   "metadata": {
    "tags": []
   },
   "outputs": [],
   "source": [
    "## step 1 build a model ##\n",
    "\n",
    "# upper layers\n",
    "model2 = keras.models.Sequential()\n",
    "for klayer in model1.layers[:-3]:\n",
    "    _layername = klayer.name.lower().replace('_','')\n",
    "    if 'input' in _layername:\n",
    "        _units = klayer.input_shape[0][-1]\n",
    "        model2.add(keras.layers.InputLayer(_units))\n",
    "    elif 'dense' in _layername:\n",
    "        _units = klayer.units\n",
    "        model2.add(keras.layers.Dense(_units))\n",
    "    elif 'relu' in _layername:\n",
    "        model2.add(keras.layers.ReLU())\n",
    "    else:\n",
    "        print('!!! WRONG !!!')\n",
    "        \n",
    "# concatenate layers\n",
    "check_layers = ('dense' in model1.layers[-3].name) * ('dense' in model1.layers[-2].name)\\\n",
    "               * ('concatenate' in model1.layers[-1].name)\n",
    "if check_layers:\n",
    "    _units = model1.layers[-3].units+model1.layers[-2].units\n",
    "    model2.add(keras.layers.Dense(_units))\n",
    "else:\n",
    "    print('!!! WRONG !!!')"
   ]
  },
  {
   "cell_type": "code",
   "execution_count": 5,
   "id": "02529f2e-5b11-4272-8880-b988c2aee664",
   "metadata": {
    "tags": []
   },
   "outputs": [],
   "source": [
    "## step 2 transfer units ##\n",
    "for k in range(len(model2.weights[:-2])):\n",
    "    wgt_from = model1.weights[k]\n",
    "    wgt_to   = model2.weights[k]\n",
    "    wgt_to.assign(wgt_from)\n",
    "        \n",
    "# concatenate layers\n",
    "j = k+1 # weights\n",
    "wgt_to = model2.weights[j]\n",
    "wgt_from =  tf.concat([model1.weights[j], model1.weights[j+2]], axis=-1)\n",
    "wgt_to.assign(wgt_from);\n",
    "j = j+1 # biases\n",
    "wgt_to = model2.weights[j]\n",
    "wgt_from =  tf.concat([model1.weights[j], model1.weights[j+2]], axis=-1)\n",
    "wgt_to.assign(wgt_from);"
   ]
  },
  {
   "cell_type": "code",
   "execution_count": 6,
   "id": "f56feee0-d34b-468b-bcb0-696b59f78fe8",
   "metadata": {
    "tags": []
   },
   "outputs": [
    {
     "name": "stdout",
     "output_type": "stream",
     "text": [
      "Model: \"retrained_model\"\n",
      "__________________________________________________________________________________________________\n",
      " Layer (type)                   Output Shape         Param #     Connected to                     \n",
      "==================================================================================================\n",
      " input (InputLayer)             [(None, 425)]        0           []                               \n",
      "                                                                                                  \n",
      " dense (Dense)                  (None, 512)          218112      ['input[0][0]']                  \n",
      "                                                                                                  \n",
      " re_lu (ReLU)                   (None, 512)          0           ['dense[0][0]']                  \n",
      "                                                                                                  \n",
      " dense_1 (Dense)                (None, 256)          131328      ['re_lu[0][0]']                  \n",
      "                                                                                                  \n",
      " re_lu_1 (ReLU)                 (None, 256)          0           ['dense_1[0][0]']                \n",
      "                                                                                                  \n",
      " dense_2 (Dense)                (None, 896)          230272      ['re_lu_1[0][0]']                \n",
      "                                                                                                  \n",
      " re_lu_2 (ReLU)                 (None, 896)          0           ['dense_2[0][0]']                \n",
      "                                                                                                  \n",
      " dense_3 (Dense)                (None, 768)          688896      ['re_lu_2[0][0]']                \n",
      "                                                                                                  \n",
      " re_lu_3 (ReLU)                 (None, 768)          0           ['dense_3[0][0]']                \n",
      "                                                                                                  \n",
      " dense_4 (Dense)                (None, 368)          282992      ['re_lu_3[0][0]']                \n",
      "                                                                                                  \n",
      " re_lu_4 (ReLU)                 (None, 368)          0           ['dense_4[0][0]']                \n",
      "                                                                                                  \n",
      " dense_5 (Dense)                (None, 360)          132840      ['re_lu_4[0][0]']                \n",
      "                                                                                                  \n",
      " dense_6 (Dense)                (None, 8)            2952        ['re_lu_4[0][0]']                \n",
      "                                                                                                  \n",
      " concatenate (Concatenate)      (None, 368)          0           ['dense_5[0][0]',                \n",
      "                                                                  'dense_6[0][0]']                \n",
      "                                                                                                  \n",
      "==================================================================================================\n",
      "Total params: 1,687,392\n",
      "Trainable params: 1,687,392\n",
      "Non-trainable params: 0\n",
      "__________________________________________________________________________________________________\n"
     ]
    }
   ],
   "source": [
    "model1.summary()"
   ]
  },
  {
   "cell_type": "code",
   "execution_count": 7,
   "id": "de76748c-551f-48d7-b5d2-b7a4b393639d",
   "metadata": {
    "tags": []
   },
   "outputs": [
    {
     "name": "stdout",
     "output_type": "stream",
     "text": [
      "Model: \"sequential\"\n",
      "_________________________________________________________________\n",
      " Layer (type)                Output Shape              Param #   \n",
      "=================================================================\n",
      " dense (Dense)               (None, 512)               218112    \n",
      "                                                                 \n",
      " re_lu (ReLU)                (None, 512)               0         \n",
      "                                                                 \n",
      " dense_1 (Dense)             (None, 256)               131328    \n",
      "                                                                 \n",
      " re_lu_1 (ReLU)              (None, 256)               0         \n",
      "                                                                 \n",
      " dense_2 (Dense)             (None, 896)               230272    \n",
      "                                                                 \n",
      " re_lu_2 (ReLU)              (None, 896)               0         \n",
      "                                                                 \n",
      " dense_3 (Dense)             (None, 768)               688896    \n",
      "                                                                 \n",
      " re_lu_3 (ReLU)              (None, 768)               0         \n",
      "                                                                 \n",
      " dense_4 (Dense)             (None, 368)               282992    \n",
      "                                                                 \n",
      " re_lu_4 (ReLU)              (None, 368)               0         \n",
      "                                                                 \n",
      " dense_5 (Dense)             (None, 368)               135792    \n",
      "                                                                 \n",
      "=================================================================\n",
      "Total params: 1,687,392\n",
      "Trainable params: 1,687,392\n",
      "Non-trainable params: 0\n",
      "_________________________________________________________________\n"
     ]
    }
   ],
   "source": [
    "model2.summary()"
   ]
  },
  {
   "cell_type": "code",
   "execution_count": 8,
   "id": "322bc49d-f7a8-4467-88a3-eadd877d58ee",
   "metadata": {
    "tags": []
   },
   "outputs": [
    {
     "name": "stdout",
     "output_type": "stream",
     "text": [
      "backup_phase-11_retrained_models_step2_lot-152_trial_0024.best.h5.linear-out.h5\n",
      "WARNING:tensorflow:Compiled the loaded model, but the compiled metrics have yet to be built. `model.compile_metrics` will be empty until you train or evaluate the model.\n"
     ]
    }
   ],
   "source": [
    "f_save = f_model1.split('/')[-2:]\n",
    "f_save = '_'.join(f_save)\n",
    "f_save = f'{f_save}.linear-out.h5'\n",
    "print(f_save)\n",
    "model2.save(f_save)"
   ]
  },
  {
   "cell_type": "code",
   "execution_count": 10,
   "id": "8699bf0b-8448-4477-8307-dd540e864a36",
   "metadata": {
    "tags": []
   },
   "outputs": [
    {
     "name": "stdout",
     "output_type": "stream",
     "text": [
      "1/1 [==============================] - 0s 64ms/step\n",
      "1/1 [==============================] - 0s 25ms/step\n"
     ]
    },
    {
     "data": {
      "image/png": "[encoded data removed]",
      "text/plain": [
       "<Figure size 1200x400 with 1 Axes>"
      ]
     },
     "metadata": {},
     "output_type": "display_data"
    }
   ],
   "source": [
    "## CHECK\n",
    "\n",
    "# blue: model2\n",
    "# orange: model1\n",
    "model2 = keras.models.load_model(f_save, compile=False)\n",
    "x_rand = np.random.randn(425)\n",
    "x_rand = tf.expand_dims(x_rand,axis=0)\n",
    "nn_pred={}\n",
    "nn_pred['new_ANN']=model2.predict(x_rand)\n",
    "nn_pred['orig_ANN']=model1.predict(x_rand)\n",
    "plt.plot(nn_pred['new_ANN'][0])\n",
    "plt.plot(nn_pred['orig_ANN'][0])\n",
    "plt.gca().axhline(0,ls=':',color='k')\n",
    "plt.gca().axvspan(360-0.5,368+0.5, color='grey', zorder=0, alpha=.3)\n",
    "plt.gcf().set_size_inches(12,4)"
   ]
  },
  {
   "cell_type": "markdown",
   "id": "d785407e-ad2c-4c71-8626-a6c8951de3db",
   "metadata": {},
   "source": [
    "## Then use FKB to convert a tf h5 model to a txt wgt file\n",
    "https://github.com/sungdukyu/FKB64/tree/master/KerasWeightsProcessing"
   ]
  },
  {
   "cell_type": "code",
   "execution_count": null,
   "id": "b7ba36b7-ddce-43cb-9f9e-94a0bc05feb3",
   "metadata": {},
   "outputs": [],
   "source": []
  }
 ],
 "metadata": {
  "kernelspec": {
   "display_name": "myenv-tf_conda",
   "language": "python",
   "name": "myenv-tf_conda"
  },
  "language_info": {
   "codemirror_mode": {
    "name": "ipython",
    "version": 3
   },
   "file_extension": ".py",
   "mimetype": "text/x-python",
   "name": "python",
   "nbconvert_exporter": "python",
   "pygments_lexer": "ipython3",
   "version": "3.10.10"
  }
 },
 "nbformat": 4,
 "nbformat_minor": 5
}
